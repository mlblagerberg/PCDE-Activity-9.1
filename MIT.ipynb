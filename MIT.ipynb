{
 "cells": [
  {
   "cell_type": "markdown",
   "metadata": {},
   "source": [
    "# The Massachusetts Institute of Technology (MIT)\n",
    "\n",
    "**Madeleine Lagerberg mlblagerberg**\n",
    "\n",
    "The Massachusetts Institute of Technology (MIT) is a private university in Cambridge, Massachusetts. Established in 1861, MIT has since then been at the center of the development of modern technology and science. Since it was founded, MIT has been ranked among the top academic institutions in the world.\n",
    "\n",
    "\n",
    "The original MIT logo, also known as the official MIT seal, was adopted in 1864. It has two figures symbolizing the fields of Science and Art. The image below displays the original seal and the modern logo. Professor Emeritus Seymour Papert was, among other things, a founding member of the MIT Media Lab. Though he did not influence MITs logo, he did idiate and develope the programming language *Logo* which was meant to be an introductory programming language for children.\n",
    "\n",
    "![](MIT-Logo-history.png)\n",
    "\n",
    "*Photo credit: https://1000logos.net/mit-logo/*\n",
    "*Source: https://brand.mit.edu/history*\n"
   ]
  },
  {
   "cell_type": "code",
   "execution_count": null,
   "metadata": {},
   "outputs": [],
   "source": []
  }
 ],
 "metadata": {
  "kernelspec": {
   "display_name": "Python 3",
   "language": "python",
   "name": "python3"
  },
  "language_info": {
   "codemirror_mode": {
    "name": "ipython",
    "version": 3
   },
   "file_extension": ".py",
   "mimetype": "text/x-python",
   "name": "python",
   "nbconvert_exporter": "python",
   "pygments_lexer": "ipython3",
   "version": "3.7.3"
  }
 },
 "nbformat": 4,
 "nbformat_minor": 4
}
